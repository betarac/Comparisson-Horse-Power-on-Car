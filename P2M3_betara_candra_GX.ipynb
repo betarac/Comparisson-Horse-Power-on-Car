{
 "cells": [
  {
   "cell_type": "markdown",
   "metadata": {},
   "source": [
    "# Library"
   ]
  },
  {
   "cell_type": "code",
   "execution_count": 1,
   "metadata": {},
   "outputs": [],
   "source": [
    "# import libraries\n",
    "import great_expectations\n",
    "from great_expectations.data_context import FileDataContext\n",
    "\n",
    "import warnings\n",
    "warnings.filterwarnings(\"ignore\")"
   ]
  },
  {
   "cell_type": "markdown",
   "metadata": {},
   "source": [
    "# Instaiate Data Context"
   ]
  },
  {
   "cell_type": "code",
   "execution_count": 5,
   "metadata": {},
   "outputs": [],
   "source": [
    "# Create a data context\n",
    "\n",
    "context = FileDataContext.create(project_root_dir='./')"
   ]
  },
  {
   "cell_type": "markdown",
   "metadata": {},
   "source": [
    "# Connect to Datasource"
   ]
  },
  {
   "cell_type": "code",
   "execution_count": 6,
   "metadata": {},
   "outputs": [],
   "source": [
    "# This code give a name to a datasource. The name must unique\n",
    "datasource_name = 'csv-data-day1'\n",
    "datasource = context.sources.add_pandas(datasource_name)\n",
    "\n",
    "# This code give a name to a data asset\n",
    "asset_name = 'day1'\n",
    "path_to_data = 'data\\P2M3_betara_candra_data_clean.csv'\n",
    "asset = datasource.add_csv_asset(asset_name, filepath_or_buffer=path_to_data)\n",
    "\n",
    "# Build batch request\n",
    "batch_request = asset.build_batch_request()"
   ]
  },
  {
   "cell_type": "markdown",
   "metadata": {},
   "source": [
    "# Create an Expactation Suite"
   ]
  },
  {
   "cell_type": "code",
   "execution_count": 7,
   "metadata": {},
   "outputs": [
    {
     "data": {
      "application/vnd.jupyter.widget-view+json": {
       "model_id": "785939e568c147c5b5f8154e01a6b90f",
       "version_major": 2,
       "version_minor": 0
      },
      "text/plain": [
       "Calculating Metrics:   0%|          | 0/1 [00:00<?, ?it/s]"
      ]
     },
     "metadata": {},
     "output_type": "display_data"
    },
    {
     "data": {
      "text/html": [
       "<div>\n",
       "<style scoped>\n",
       "    .dataframe tbody tr th:only-of-type {\n",
       "        vertical-align: middle;\n",
       "    }\n",
       "\n",
       "    .dataframe tbody tr th {\n",
       "        vertical-align: top;\n",
       "    }\n",
       "\n",
       "    .dataframe thead th {\n",
       "        text-align: right;\n",
       "    }\n",
       "</style>\n",
       "<table border=\"1\" class=\"dataframe\">\n",
       "  <thead>\n",
       "    <tr style=\"text-align: right;\">\n",
       "      <th></th>\n",
       "      <th>id</th>\n",
       "      <th>dimensions_height</th>\n",
       "      <th>dimensions_length</th>\n",
       "      <th>dimensions_width</th>\n",
       "      <th>engine_information_driveline</th>\n",
       "      <th>engine_information_engine_type</th>\n",
       "      <th>engine_information_hybrid</th>\n",
       "      <th>engine_information_number_of_forward_gears</th>\n",
       "      <th>engine_information_transmission</th>\n",
       "      <th>fuel_information_city_mpg</th>\n",
       "      <th>fuel_information_fuel_type</th>\n",
       "      <th>fuel_information_highway_mpg</th>\n",
       "      <th>identification_classification</th>\n",
       "      <th>identification_id</th>\n",
       "      <th>identification_make</th>\n",
       "      <th>identification_model_year</th>\n",
       "      <th>identification_year</th>\n",
       "      <th>engine_information_engine_statistics_horsepower</th>\n",
       "      <th>engine_information_engine_statistics_torque</th>\n",
       "    </tr>\n",
       "  </thead>\n",
       "  <tbody>\n",
       "    <tr>\n",
       "      <th>0</th>\n",
       "      <td>0</td>\n",
       "      <td>140</td>\n",
       "      <td>143</td>\n",
       "      <td>202</td>\n",
       "      <td>All-wheel drive</td>\n",
       "      <td>Audi 3.2L 6 cylinder 250hp 236ft-lbs</td>\n",
       "      <td>True</td>\n",
       "      <td>6</td>\n",
       "      <td>6 Speed Automatic Select Shift</td>\n",
       "      <td>18</td>\n",
       "      <td>Gasoline</td>\n",
       "      <td>25</td>\n",
       "      <td>Automatic transmission</td>\n",
       "      <td>2009 Audi A3 3.2</td>\n",
       "      <td>Audi</td>\n",
       "      <td>2009 Audi A3</td>\n",
       "      <td>2009</td>\n",
       "      <td>250</td>\n",
       "      <td>236</td>\n",
       "    </tr>\n",
       "    <tr>\n",
       "      <th>1</th>\n",
       "      <td>1</td>\n",
       "      <td>140</td>\n",
       "      <td>143</td>\n",
       "      <td>202</td>\n",
       "      <td>Front-wheel drive</td>\n",
       "      <td>Audi 2.0L 4 cylinder 200 hp 207 ft-lbs Turbo</td>\n",
       "      <td>True</td>\n",
       "      <td>6</td>\n",
       "      <td>6 Speed Automatic Select Shift</td>\n",
       "      <td>22</td>\n",
       "      <td>Gasoline</td>\n",
       "      <td>28</td>\n",
       "      <td>Automatic transmission</td>\n",
       "      <td>2009 Audi A3 2.0 T AT</td>\n",
       "      <td>Audi</td>\n",
       "      <td>2009 Audi A3</td>\n",
       "      <td>2009</td>\n",
       "      <td>200</td>\n",
       "      <td>207</td>\n",
       "    </tr>\n",
       "    <tr>\n",
       "      <th>2</th>\n",
       "      <td>2</td>\n",
       "      <td>140</td>\n",
       "      <td>143</td>\n",
       "      <td>202</td>\n",
       "      <td>Front-wheel drive</td>\n",
       "      <td>Audi 2.0L 4 cylinder 200 hp 207 ft-lbs Turbo</td>\n",
       "      <td>True</td>\n",
       "      <td>6</td>\n",
       "      <td>6 Speed Manual</td>\n",
       "      <td>21</td>\n",
       "      <td>Gasoline</td>\n",
       "      <td>30</td>\n",
       "      <td>Manual transmission</td>\n",
       "      <td>2009 Audi A3 2.0 T</td>\n",
       "      <td>Audi</td>\n",
       "      <td>2009 Audi A3</td>\n",
       "      <td>2009</td>\n",
       "      <td>200</td>\n",
       "      <td>207</td>\n",
       "    </tr>\n",
       "    <tr>\n",
       "      <th>3</th>\n",
       "      <td>3</td>\n",
       "      <td>140</td>\n",
       "      <td>143</td>\n",
       "      <td>202</td>\n",
       "      <td>All-wheel drive</td>\n",
       "      <td>Audi 2.0L 4 cylinder 200 hp 207 ft-lbs Turbo</td>\n",
       "      <td>True</td>\n",
       "      <td>6</td>\n",
       "      <td>6 Speed Automatic Select Shift</td>\n",
       "      <td>21</td>\n",
       "      <td>Gasoline</td>\n",
       "      <td>28</td>\n",
       "      <td>Automatic transmission</td>\n",
       "      <td>2009 Audi A3 2.0 T Quattro</td>\n",
       "      <td>Audi</td>\n",
       "      <td>2009 Audi A3</td>\n",
       "      <td>2009</td>\n",
       "      <td>200</td>\n",
       "      <td>207</td>\n",
       "    </tr>\n",
       "    <tr>\n",
       "      <th>4</th>\n",
       "      <td>4</td>\n",
       "      <td>140</td>\n",
       "      <td>143</td>\n",
       "      <td>202</td>\n",
       "      <td>All-wheel drive</td>\n",
       "      <td>Audi 2.0L 4 cylinder 200 hp 207 ft-lbs Turbo</td>\n",
       "      <td>True</td>\n",
       "      <td>6</td>\n",
       "      <td>6 Speed Automatic Select Shift</td>\n",
       "      <td>21</td>\n",
       "      <td>Gasoline</td>\n",
       "      <td>28</td>\n",
       "      <td>Automatic transmission</td>\n",
       "      <td>2009 Audi A3 2.0 T Quattro</td>\n",
       "      <td>Audi</td>\n",
       "      <td>2009 Audi A3</td>\n",
       "      <td>2009</td>\n",
       "      <td>200</td>\n",
       "      <td>207</td>\n",
       "    </tr>\n",
       "  </tbody>\n",
       "</table>\n",
       "</div>"
      ],
      "text/plain": [
       "   id  dimensions_height  dimensions_length  dimensions_width  \\\n",
       "0   0                140                143               202   \n",
       "1   1                140                143               202   \n",
       "2   2                140                143               202   \n",
       "3   3                140                143               202   \n",
       "4   4                140                143               202   \n",
       "\n",
       "  engine_information_driveline                engine_information_engine_type  \\\n",
       "0              All-wheel drive          Audi 3.2L 6 cylinder 250hp 236ft-lbs   \n",
       "1            Front-wheel drive  Audi 2.0L 4 cylinder 200 hp 207 ft-lbs Turbo   \n",
       "2            Front-wheel drive  Audi 2.0L 4 cylinder 200 hp 207 ft-lbs Turbo   \n",
       "3              All-wheel drive  Audi 2.0L 4 cylinder 200 hp 207 ft-lbs Turbo   \n",
       "4              All-wheel drive  Audi 2.0L 4 cylinder 200 hp 207 ft-lbs Turbo   \n",
       "\n",
       "   engine_information_hybrid  engine_information_number_of_forward_gears  \\\n",
       "0                       True                                           6   \n",
       "1                       True                                           6   \n",
       "2                       True                                           6   \n",
       "3                       True                                           6   \n",
       "4                       True                                           6   \n",
       "\n",
       "  engine_information_transmission  fuel_information_city_mpg  \\\n",
       "0  6 Speed Automatic Select Shift                         18   \n",
       "1  6 Speed Automatic Select Shift                         22   \n",
       "2                  6 Speed Manual                         21   \n",
       "3  6 Speed Automatic Select Shift                         21   \n",
       "4  6 Speed Automatic Select Shift                         21   \n",
       "\n",
       "  fuel_information_fuel_type  fuel_information_highway_mpg  \\\n",
       "0                   Gasoline                            25   \n",
       "1                   Gasoline                            28   \n",
       "2                   Gasoline                            30   \n",
       "3                   Gasoline                            28   \n",
       "4                   Gasoline                            28   \n",
       "\n",
       "  identification_classification           identification_id  \\\n",
       "0        Automatic transmission            2009 Audi A3 3.2   \n",
       "1        Automatic transmission       2009 Audi A3 2.0 T AT   \n",
       "2           Manual transmission          2009 Audi A3 2.0 T   \n",
       "3        Automatic transmission  2009 Audi A3 2.0 T Quattro   \n",
       "4        Automatic transmission  2009 Audi A3 2.0 T Quattro   \n",
       "\n",
       "  identification_make identification_model_year  identification_year  \\\n",
       "0                Audi              2009 Audi A3                 2009   \n",
       "1                Audi              2009 Audi A3                 2009   \n",
       "2                Audi              2009 Audi A3                 2009   \n",
       "3                Audi              2009 Audi A3                 2009   \n",
       "4                Audi              2009 Audi A3                 2009   \n",
       "\n",
       "   engine_information_engine_statistics_horsepower  \\\n",
       "0                                              250   \n",
       "1                                              200   \n",
       "2                                              200   \n",
       "3                                              200   \n",
       "4                                              200   \n",
       "\n",
       "   engine_information_engine_statistics_torque  \n",
       "0                                          236  \n",
       "1                                          207  \n",
       "2                                          207  \n",
       "3                                          207  \n",
       "4                                          207  "
      ]
     },
     "execution_count": 7,
     "metadata": {},
     "output_type": "execute_result"
    }
   ],
   "source": [
    "# Create an expectation suite\n",
    "expectation_suite_name = 'expectation-cleaning-dataset'\n",
    "context.add_or_update_expectation_suite(expectation_suite_name)\n",
    "\n",
    "# Create a validator using  expectation suite on expactation above\n",
    "validator = context.get_validator(\n",
    "    batch_request = batch_request,\n",
    "    expectation_suite_name = expectation_suite_name\n",
    ")\n",
    "\n",
    "# Check the validator\n",
    "validator.head()"
   ]
  },
  {
   "cell_type": "markdown",
   "metadata": {},
   "source": [
    "## Expectation Unique column"
   ]
  },
  {
   "cell_type": "code",
   "execution_count": 8,
   "metadata": {},
   "outputs": [
    {
     "data": {
      "application/vnd.jupyter.widget-view+json": {
       "model_id": "105c061b3530448c99619e50e6ed6cf6",
       "version_major": 2,
       "version_minor": 0
      },
      "text/plain": [
       "Calculating Metrics:   0%|          | 0/8 [00:00<?, ?it/s]"
      ]
     },
     "metadata": {},
     "output_type": "display_data"
    },
    {
     "data": {
      "text/plain": [
       "{\n",
       "  \"success\": true,\n",
       "  \"result\": {\n",
       "    \"element_count\": 5076,\n",
       "    \"unexpected_count\": 0,\n",
       "    \"unexpected_percent\": 0.0,\n",
       "    \"partial_unexpected_list\": [],\n",
       "    \"missing_count\": 0,\n",
       "    \"missing_percent\": 0.0,\n",
       "    \"unexpected_percent_total\": 0.0,\n",
       "    \"unexpected_percent_nonmissing\": 0.0\n",
       "  },\n",
       "  \"meta\": {},\n",
       "  \"exception_info\": {\n",
       "    \"raised_exception\": false,\n",
       "    \"exception_traceback\": null,\n",
       "    \"exception_message\": null\n",
       "  }\n",
       "}"
      ]
     },
     "execution_count": 8,
     "metadata": {},
     "output_type": "execute_result"
    }
   ],
   "source": [
    "# Expectation 1 : Column `id` have unique in every data\n",
    "\n",
    "validator.expect_column_values_to_be_unique('id')"
   ]
  },
  {
   "cell_type": "markdown",
   "metadata": {},
   "source": [
    "## Expectation Unique column"
   ]
  },
  {
   "cell_type": "code",
   "execution_count": 9,
   "metadata": {},
   "outputs": [
    {
     "data": {
      "application/vnd.jupyter.widget-view+json": {
       "model_id": "5631058a4c1b4fea8a217d4b0f87754a",
       "version_major": 2,
       "version_minor": 0
      },
      "text/plain": [
       "Calculating Metrics:   0%|          | 0/8 [00:00<?, ?it/s]"
      ]
     },
     "metadata": {},
     "output_type": "display_data"
    },
    {
     "data": {
      "text/plain": [
       "{\n",
       "  \"success\": true,\n",
       "  \"result\": {\n",
       "    \"element_count\": 5076,\n",
       "    \"unexpected_count\": 0,\n",
       "    \"unexpected_percent\": 0.0,\n",
       "    \"partial_unexpected_list\": [],\n",
       "    \"missing_count\": 0,\n",
       "    \"missing_percent\": 0.0,\n",
       "    \"unexpected_percent_total\": 0.0,\n",
       "    \"unexpected_percent_nonmissing\": 0.0\n",
       "  },\n",
       "  \"meta\": {},\n",
       "  \"exception_info\": {\n",
       "    \"raised_exception\": false,\n",
       "    \"exception_traceback\": null,\n",
       "    \"exception_message\": null\n",
       "  }\n",
       "}"
      ]
     },
     "execution_count": 9,
     "metadata": {},
     "output_type": "execute_result"
    }
   ],
   "source": [
    "# Expectation 2 : Column `eengine_information_number_of_forward_gears` must be value from 4 to 8\n",
    "\n",
    "validator.expect_column_values_to_be_between(\n",
    "    column='engine_information_number_of_forward_gears', min_value=4, max_value=8\n",
    ")"
   ]
  },
  {
   "cell_type": "markdown",
   "metadata": {},
   "source": [
    "## Expectation to be in set"
   ]
  },
  {
   "cell_type": "code",
   "execution_count": 10,
   "metadata": {},
   "outputs": [
    {
     "data": {
      "application/vnd.jupyter.widget-view+json": {
       "model_id": "ed97b75c67c443909ac5c0020d62ffbc",
       "version_major": 2,
       "version_minor": 0
      },
      "text/plain": [
       "Calculating Metrics:   0%|          | 0/8 [00:00<?, ?it/s]"
      ]
     },
     "metadata": {},
     "output_type": "display_data"
    },
    {
     "data": {
      "text/plain": [
       "{\n",
       "  \"success\": true,\n",
       "  \"result\": {\n",
       "    \"element_count\": 5076,\n",
       "    \"unexpected_count\": 0,\n",
       "    \"unexpected_percent\": 0.0,\n",
       "    \"partial_unexpected_list\": [],\n",
       "    \"missing_count\": 0,\n",
       "    \"missing_percent\": 0.0,\n",
       "    \"unexpected_percent_total\": 0.0,\n",
       "    \"unexpected_percent_nonmissing\": 0.0\n",
       "  },\n",
       "  \"meta\": {},\n",
       "  \"exception_info\": {\n",
       "    \"raised_exception\": false,\n",
       "    \"exception_traceback\": null,\n",
       "    \"exception_message\": null\n",
       "  }\n",
       "}"
      ]
     },
     "execution_count": 10,
     "metadata": {},
     "output_type": "execute_result"
    }
   ],
   "source": [
    "# Expectation 3 : Column `engine_information_driveline` is must in set of list that in code\n",
    "validator.expect_column_values_to_be_in_set('engine_information_driveline', \n",
    "                                            ['All-wheel drive', 'Front-wheel drive',\n",
    "                                              'Rear-wheel drive','Four-wheel drive'])"
   ]
  },
  {
   "cell_type": "markdown",
   "metadata": {},
   "source": [
    "## Expectation to be in type list"
   ]
  },
  {
   "cell_type": "code",
   "execution_count": 26,
   "metadata": {},
   "outputs": [
    {
     "data": {
      "application/vnd.jupyter.widget-view+json": {
       "model_id": "57077000fe2d496d992a4664c4801577",
       "version_major": 2,
       "version_minor": 0
      },
      "text/plain": [
       "Calculating Metrics:   0%|          | 0/1 [00:00<?, ?it/s]"
      ]
     },
     "metadata": {},
     "output_type": "display_data"
    },
    {
     "data": {
      "text/plain": [
       "{\n",
       "  \"success\": true,\n",
       "  \"result\": {\n",
       "    \"observed_value\": \"int64\"\n",
       "  },\n",
       "  \"meta\": {},\n",
       "  \"exception_info\": {\n",
       "    \"raised_exception\": false,\n",
       "    \"exception_traceback\": null,\n",
       "    \"exception_message\": null\n",
       "  }\n",
       "}"
      ]
     },
     "execution_count": 26,
     "metadata": {},
     "output_type": "execute_result"
    }
   ],
   "source": [
    "# Expectation 3 : Column `dimensions_height` is must in type list int or float\n",
    "validator.expect_column_values_to_be_in_type_list('dimensions_width',['int64'])"
   ]
  },
  {
   "cell_type": "markdown",
   "metadata": {},
   "source": [
    "# Expectation Exist"
   ]
  },
  {
   "cell_type": "code",
   "execution_count": 29,
   "metadata": {},
   "outputs": [
    {
     "data": {
      "application/vnd.jupyter.widget-view+json": {
       "model_id": "87bc846679da4c5b97883c239619ace1",
       "version_major": 2,
       "version_minor": 0
      },
      "text/plain": [
       "Calculating Metrics:   0%|          | 0/2 [00:00<?, ?it/s]"
      ]
     },
     "metadata": {},
     "output_type": "display_data"
    },
    {
     "data": {
      "text/plain": [
       "{\n",
       "  \"success\": true,\n",
       "  \"result\": {},\n",
       "  \"meta\": {},\n",
       "  \"exception_info\": {\n",
       "    \"raised_exception\": false,\n",
       "    \"exception_traceback\": null,\n",
       "    \"exception_message\": null\n",
       "  }\n",
       "}"
      ]
     },
     "execution_count": 29,
     "metadata": {},
     "output_type": "execute_result"
    }
   ],
   "source": [
    "# Expectation 3 : Column `fuel_information_fuel_type` is exist\n",
    "validator.expect_column_to_exist('fuel_information_fuel_type')"
   ]
  },
  {
   "cell_type": "markdown",
   "metadata": {},
   "source": [
    "# Expectataion order list"
   ]
  },
  {
   "cell_type": "code",
   "execution_count": 31,
   "metadata": {},
   "outputs": [
    {
     "data": {
      "application/vnd.jupyter.widget-view+json": {
       "model_id": "0f9dff3b1a9f4759abd0855ec43cd673",
       "version_major": 2,
       "version_minor": 0
      },
      "text/plain": [
       "Calculating Metrics:   0%|          | 0/2 [00:00<?, ?it/s]"
      ]
     },
     "metadata": {},
     "output_type": "display_data"
    },
    {
     "data": {
      "text/plain": [
       "{\n",
       "  \"success\": true,\n",
       "  \"result\": {\n",
       "    \"observed_value\": [\n",
       "      \"id\",\n",
       "      \"dimensions_height\",\n",
       "      \"dimensions_length\",\n",
       "      \"dimensions_width\",\n",
       "      \"engine_information_driveline\",\n",
       "      \"engine_information_engine_type\",\n",
       "      \"engine_information_hybrid\",\n",
       "      \"engine_information_number_of_forward_gears\",\n",
       "      \"engine_information_transmission\",\n",
       "      \"fuel_information_city_mpg\",\n",
       "      \"fuel_information_fuel_type\",\n",
       "      \"fuel_information_highway_mpg\",\n",
       "      \"identification_classification\",\n",
       "      \"identification_id\",\n",
       "      \"identification_make\",\n",
       "      \"identification_model_year\",\n",
       "      \"identification_year\",\n",
       "      \"engine_information_engine_statistics_horsepower\",\n",
       "      \"engine_information_engine_statistics_torque\"\n",
       "    ]\n",
       "  },\n",
       "  \"meta\": {},\n",
       "  \"exception_info\": {\n",
       "    \"raised_exception\": false,\n",
       "    \"exception_traceback\": null,\n",
       "    \"exception_message\": null\n",
       "  }\n",
       "}"
      ]
     },
     "execution_count": 31,
     "metadata": {},
     "output_type": "execute_result"
    }
   ],
   "source": [
    "# Expectation 3 : Column `fuel_information_fuel_type` is exist\n",
    "validator.expect_table_columns_to_match_ordered_list(['id', 'dimensions_height', 'dimensions_length', 'dimensions_width',\n",
    "       'engine_information_driveline', 'engine_information_engine_type',\n",
    "       'engine_information_hybrid',\n",
    "       'engine_information_number_of_forward_gears',\n",
    "       'engine_information_transmission', 'fuel_information_city_mpg',\n",
    "       'fuel_information_fuel_type', 'fuel_information_highway_mpg',\n",
    "       'identification_classification', 'identification_id',\n",
    "       'identification_make', 'identification_model_year',\n",
    "       'identification_year',\n",
    "       'engine_information_engine_statistics_horsepower',\n",
    "       'engine_information_engine_statistics_torque'])"
   ]
  },
  {
   "cell_type": "markdown",
   "metadata": {},
   "source": [
    "# Expectation Most common value"
   ]
  },
  {
   "cell_type": "code",
   "execution_count": 32,
   "metadata": {},
   "outputs": [
    {
     "data": {
      "application/vnd.jupyter.widget-view+json": {
       "model_id": "c7f8cece3e0a4f7e845f2012445bc8e5",
       "version_major": 2,
       "version_minor": 0
      },
      "text/plain": [
       "Calculating Metrics:   0%|          | 0/4 [00:00<?, ?it/s]"
      ]
     },
     "metadata": {},
     "output_type": "display_data"
    },
    {
     "data": {
      "text/plain": [
       "{\n",
       "  \"success\": true,\n",
       "  \"result\": {\n",
       "    \"observed_value\": [\n",
       "      \"Gasoline\"\n",
       "    ]\n",
       "  },\n",
       "  \"meta\": {},\n",
       "  \"exception_info\": {\n",
       "    \"raised_exception\": false,\n",
       "    \"exception_traceback\": null,\n",
       "    \"exception_message\": null\n",
       "  }\n",
       "}"
      ]
     },
     "execution_count": 32,
     "metadata": {},
     "output_type": "execute_result"
    }
   ],
   "source": [
    "# Expectation 3 : Column `fuel_information_fuel_type` Most common value os Gasoline\n",
    "validator.expect_column_most_common_value_to_be_in_set('fuel_information_fuel_type',['Gasoline'])"
   ]
  },
  {
   "cell_type": "code",
   "execution_count": 33,
   "metadata": {},
   "outputs": [],
   "source": [
    "# Save into Expectation Suite\n",
    "\n",
    "validator.save_expectation_suite(discard_failed_expectations=False)"
   ]
  },
  {
   "cell_type": "markdown",
   "metadata": {},
   "source": [
    "# Checkpoints"
   ]
  },
  {
   "cell_type": "code",
   "execution_count": 34,
   "metadata": {},
   "outputs": [],
   "source": [
    "# Create a checkpoint\n",
    "\n",
    "checkpoint_1 = context.add_or_update_checkpoint(\n",
    "    name = 'checkpoint_1',\n",
    "    validator = validator,\n",
    ")"
   ]
  },
  {
   "cell_type": "code",
   "execution_count": 35,
   "metadata": {},
   "outputs": [
    {
     "data": {
      "application/vnd.jupyter.widget-view+json": {
       "model_id": "d4b93ad550414a688f290650f1223d70",
       "version_major": 2,
       "version_minor": 0
      },
      "text/plain": [
       "Calculating Metrics:   0%|          | 0/25 [00:00<?, ?it/s]"
      ]
     },
     "metadata": {},
     "output_type": "display_data"
    }
   ],
   "source": [
    "# Run a checkpoint\n",
    "\n",
    "checkpoint_result = checkpoint_1.run()"
   ]
  },
  {
   "cell_type": "markdown",
   "metadata": {},
   "source": [
    "# Data Docs"
   ]
  },
  {
   "cell_type": "code",
   "execution_count": 36,
   "metadata": {},
   "outputs": [
    {
     "data": {
      "text/plain": [
       "{'local_site': 'file://c:\\\\Users\\\\betarac\\\\Documents\\\\GitHub\\\\Milestones\\\\M3\\\\airflow\\\\gx\\\\uncommitted/data_docs/local_site/index.html'}"
      ]
     },
     "execution_count": 36,
     "metadata": {},
     "output_type": "execute_result"
    }
   ],
   "source": [
    "# Build data docs\n",
    "\n",
    "context.build_data_docs()"
   ]
  }
 ],
 "metadata": {
  "kernelspec": {
   "display_name": "base",
   "language": "python",
   "name": "python3"
  },
  "language_info": {
   "codemirror_mode": {
    "name": "ipython",
    "version": 3
   },
   "file_extension": ".py",
   "mimetype": "text/x-python",
   "name": "python",
   "nbconvert_exporter": "python",
   "pygments_lexer": "ipython3",
   "version": "3.11.5"
  }
 },
 "nbformat": 4,
 "nbformat_minor": 2
}
